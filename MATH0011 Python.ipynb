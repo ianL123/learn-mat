{
 "cells": [
  {
   "cell_type": "markdown",
   "id": "2c4480fa",
   "metadata": {},
   "source": [
    "#MATH0011 Python 复习\n",
    "\n",
    "| 运算符  | 作用                                                   |\n",
    "| ---- | ---------------------------------------------------- |\n",
    "| `=`  | 赋值运算符，将右边的值赋给左边的变量。<br>例：`x = 5`                     |\n",
    "| `==` | 比较运算符，判断左右两边是否相等。<br>例：`x == 5` 结果为 `True` 或 `False` |\n",
    "| `<`  | 判断左边是否小于右边。<br>例：`3 < 5` 结果为 `True`                  |\n",
    "| `<=` | 判断左边是否小于或等于右边。<br>例：`5 <= 5` 结果为 `True`              |\n",
    "| `>`  | 判断左边是否大于右边。<br>例：`5 > 3` 结果为 `True`                  |\n",
    "| `>=` | 判断左边是否大于或等于右边。<br>例：`5 >= 5` 结果为 `True`              |\n",
    "| `%`  | 取模运算，返回除法的余数。<br>例：`7 % 3` 结果为 `1`                   |\n",
    "| `+`  | 加法运算或字符串拼接。<br>例：`2 + 3` 为 `5`，`\"a\" + \"b\"` 为 `\"ab\"`  |\n",
    "| `*`  | 乘法运算或字符串重复。<br>例：`2 * 3` 为 `6`，`\"a\" * 3` 为 `\"aaa\"`   |\n",
    "| `**` | 幂运算，指数运算符。<br>例：`2 ** 3` 为 `8`                       |\n",
    "| `-`  | 减法运算。<br>例：`5 - 2` 为 `3`                             |\n",
    "| `/`  | 除法运算，返回浮点数结果。<br>例：`5 / 2` 为 `2.5`                   |\n",
    "| `//` | 整除运算，返回不带小数的商（向下取整）。<br>例：`5 // 2` 为 `2`             |\n",
    "\n",
    "| 关键字      | 作用                                                             |\n",
    "| -------- | -------------------------------------------------------------- |\n",
    "| `def`    | 用于定义一个函数。<br>例：<br>`def greet():`<br>    `print(\"Hello\")`      |\n",
    "| `return` | 在函数中返回一个值给调用者。<br>例：<br>`def add(x, y):`<br>    `return x + y` |\n",
    "| `print`  | 输出信息到控制台。<br>例：`print(\"Hello World\")`                          |\n",
    "| `import` | 引入模块，用于调用其他库的功能。<br>例：`import math`                            |\n",
    "| `input`  | 接收用户输入（返回字符串）。<br>例：`name = input(\"Enter your name: \")`        |\n",
    "\n"
   ]
  },
  {
   "cell_type": "markdown",
   "id": "9acb2303",
   "metadata": {},
   "source": [
    "| 运算符   | 说明                         | 示例               | 结果      |\n",
    "| ----- | -------------------------- | ---------------- | ------- |\n",
    "| `and` | 两个条件都为 `True` 时结果才为 `True` | `True and False` | `False` |\n",
    "| `or`  | 只要一个条件为 `True` 结果就为 `True` | `True or False`  | `True`  |\n",
    "| `not` | 对布尔值取反                     | `not True`       | `False` |"
   ]
  },
  {
   "cell_type": "code",
   "execution_count": null,
   "id": "1ae4905e",
   "metadata": {},
   "outputs": [
    {
     "name": "stdout",
     "output_type": "stream",
     "text": [
      "16\n",
      "[0, 1]\n",
      "[9, 16]\n",
      "[16, 9, 4]\n",
      "[0, 1, 4, 9, 16, 100]\n",
      "[0, 1, 4, 9, 16, 100, 0, 2, 4, 6, 8]\n",
      "[0, 1, 4, 9, 16, 100]\n"
     ]
    }
   ],
   "source": [
    "squares = [x**2 for x in range(5)] # [0, 1, 4, 9, 16]\n",
    "print(squares[4]) \n",
    "print(squares[:2]) # 顺序切片\n",
    "print(squares[3:]) # 顺序切片\n",
    "print(squares[:1:-1]) # 逆序切片，4到2（不含1）\n",
    "\n",
    "c = squares \n",
    "c.append(100) # c和squares指向同一对象，修改c也会修改squares\n",
    "print(squares) # [0, 1, 4, 9, 16, 100]\n",
    "\n",
    "c = c + [x for x in range(10) if x % 2 == 0] # [..., 0, 2, 4, 6, 8]\n",
    "print(c) \n",
    "print(squares) # concatenation会创建新的对象，squares不变"
   ]
  },
  {
   "cell_type": "markdown",
   "id": "30de022f",
   "metadata": {},
   "source": [
    "注：int, float, str, tuple（元素也需不可变）等都属于不可变对象。不会受到弱拷贝限制。"
   ]
  },
  {
   "cell_type": "code",
   "execution_count": 16,
   "id": "3098dd76",
   "metadata": {},
   "outputs": [
    {
     "name": "stdout",
     "output_type": "stream",
     "text": [
      "Alice\n",
      "{'name': 'Alice', 'age': 26, 'city': 'Shanghai'}\n",
      "name Alice\n",
      "age 26\n",
      "city Shanghai\n",
      "dict_keys(['name', 'age', 'city'])\n",
      "dict_values(['Alice', 26, 'Shanghai'])\n"
     ]
    }
   ],
   "source": [
    "person = {\"name\": \"Alice\", \"age\": 25}\n",
    "print(person[\"name\"])\n",
    "person[\"age\"] = 26 # 修改字典中的值\n",
    "person[\"city\"] = \"Shanghai\" # 添加新的键值对\n",
    "print(person)\n",
    "for key, value in person.items():\n",
    "    print(key, value)\n",
    "print(person.keys())\n",
    "print(person.values())\n"
   ]
  },
  {
   "cell_type": "code",
   "execution_count": 1,
   "id": "3df6363b",
   "metadata": {},
   "outputs": [
    {
     "name": "stdout",
     "output_type": "stream",
     "text": [
      "b == 3\n",
      "b == 4\n",
      "1 , 5\n",
      "2 , 5\n",
      "i == 3\n",
      "i == 4\n"
     ]
    }
   ],
   "source": [
    "\n",
    "b=0\n",
    "while b < 5:\n",
    "    b += 1\n",
    "    if b == 3:\n",
    "        print(\"b == 3\")\n",
    "    elif b == 4:\n",
    "        print(\"b == 4\")\n",
    "for i in range(1,5):\n",
    "    if i == 3:\n",
    "        print(\"i == 3\")\n",
    "    elif i == 4:\n",
    "        print(\"i == 4\")\n",
    "    else:\n",
    "        print(str(i) + ' , ' + str(b))"
   ]
  },
  {
   "cell_type": "code",
   "execution_count": null,
   "id": "afc981ef",
   "metadata": {},
   "outputs": [
    {
     "name": "stdout",
     "output_type": "stream",
     "text": [
      "5\n",
      "2\n",
      "5\n",
      "unsupported operand type(s) for +: 'int' and 'NoneType'\n",
      "5\n",
      "None\n",
      "4\n",
      "1\n",
      "cannot access local variable 'x' where it is not associated with a value\n"
     ]
    }
   ],
   "source": [
    "x = 4\n",
    "def f(a):\n",
    "\tprint(a+x) # 未定义过局部变量x，默认是全局变量\n",
    "\n",
    "def g(a):\n",
    "    x = 1\n",
    "    print(a+x) # 在g()中定义了局部变量x，局部变量覆盖了全局变量x\n",
    "\n",
    "def h(a):\n",
    "    return a+x\n",
    "\n",
    "f(1)\n",
    "g(1)\n",
    "\n",
    "try:\n",
    "    print(h(1)+f(1))\n",
    "except Exception as e:\n",
    "\tprint(e)\n",
    "print(f(1)) # f(1)打印了1，但返回值是None\n",
    "\n",
    "def global_demo():\n",
    "\tglobal x\n",
    "\tx = 1\n",
    "\n",
    "print(x) # 即使已经运行过g(1)，x仍然是0\n",
    "global_demo()\n",
    "print(x) # 1\n",
    "\n",
    "def bad_func():\n",
    "\tprint(x)\n",
    "\tx = 1 # 在使用x之前就定义了局部变量x，导致UnboundLocalError\n",
    "\n",
    "try:\n",
    "\tbad_func()\n",
    "except Exception as e:\n",
    "\tprint(e)\n"
   ]
  },
  {
   "cell_type": "markdown",
   "id": "59dee8dd",
   "metadata": {},
   "source": [
    "| 方法         | 触发时机                      | 示例                   |\n",
    "| ---------- | ------------------------- | -------------------- |\n",
    "| `__init__` | 实例创建时                     | `obj = MyClass(...)` |\n",
    "| `__str__`  | `str(obj)` 或 `print(obj)` | `print(obj)`         |\n",
    "| `__eq__`   | 使用 `==` 比较对象              | `obj1 == obj2`       |\n",
    "| `__add__`  | 使用 `+` 运算时                | `obj1 + obj2`        |\n",
    "| `__mul__`  | 使用 `*` 运算时                | `obj1 * obj2`        |\n"
   ]
  },
  {
   "cell_type": "code",
   "execution_count": 22,
   "id": "d9d500ef",
   "metadata": {},
   "outputs": [
    {
     "name": "stdout",
     "output_type": "stream",
     "text": [
      "v1:        Vector(2, 3)\n",
      "v2:        Vector(4, -1)\n",
      "v1 == v3:  True\n",
      "v1 + v2 =  Vector(6, 2)\n",
      "v1 · v2 =  5\n"
     ]
    }
   ],
   "source": [
    "class Vector:\n",
    "    def __init__(self, x, y):\n",
    "        # 构造函数：初始化向量的两个分量\n",
    "        self.x = x\n",
    "        self.y = y\n",
    "\n",
    "    def __str__(self):\n",
    "        # 用于打印时的友好显示\n",
    "        return f\"Vector({self.x}, {self.y})\"\n",
    "\n",
    "    def __eq__(self, other):\n",
    "        # 比较两个向量是否相等\n",
    "        return self.x == other.x and self.y == other.y\n",
    "\n",
    "    def __add__(self, other):\n",
    "        # 定义向量加法\n",
    "        return Vector(self.x + other.x, self.y + other.y)\n",
    "\n",
    "    def __mul__(self, other):\n",
    "        # 定义向量点乘（内积）\n",
    "        return self.x * other.x + self.y * other.y\n",
    "\n",
    "if __name__ == \"__main__\":\n",
    "    v1 = Vector(2, 3)\n",
    "    v2 = Vector(4, -1)\n",
    "    v3 = Vector(2, 3)\n",
    "\n",
    "    print(\"v1:       \", v1)                  # 调用 __str__\n",
    "    print(\"v2:       \", v2)\n",
    "    print(\"v1 == v3: \", v1 == v3)      # 调用 __eq__\n",
    "    print(\"v1 + v2 = \", v1 + v2)       # 调用 __add__\n",
    "    print(\"v1 · v2 = \", v1 * v2)       # 调用 __mul__\n"
   ]
  }
 ],
 "metadata": {
  "kernelspec": {
   "display_name": "Python 3",
   "language": "python",
   "name": "python3"
  },
  "language_info": {
   "codemirror_mode": {
    "name": "ipython",
    "version": 3
   },
   "file_extension": ".py",
   "mimetype": "text/x-python",
   "name": "python",
   "nbconvert_exporter": "python",
   "pygments_lexer": "ipython3",
   "version": "3.11.5"
  }
 },
 "nbformat": 4,
 "nbformat_minor": 5
}
